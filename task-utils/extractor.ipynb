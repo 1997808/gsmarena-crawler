{
 "cells": [
  {
   "cell_type": "markdown",
   "metadata": {},
   "source": [
    "# Import Library"
   ]
  },
  {
   "cell_type": "code",
   "execution_count": null,
   "metadata": {},
   "outputs": [],
   "source": [
    "import pandas as pd\n",
    "import os\n",
    "import numpy as np\n",
    "import re"
   ]
  },
  {
   "cell_type": "markdown",
   "metadata": {},
   "source": [
    "# Define extract function"
   ]
  },
  {
   "cell_type": "markdown",
   "metadata": {},
   "source": [
    "# DISPLAY SECTION"
   ]
  },
  {
   "cell_type": "markdown",
   "metadata": {},
   "source": [
    "## Type"
   ]
  },
  {
   "cell_type": "code",
   "execution_count": null,
   "metadata": {},
   "outputs": [],
   "source": [
    "def handleNull_Type(data: pd.DataFrame):\n",
    "    # tim kiem va cap nhat bang ten dien thoai\n",
    "    # Motorola V560\n",
    "    data.loc[data['DISPLAY_Type'].isnull() & (data['Name'] == 'Motorola V560'), 'DISPLAY_Type'] = 'TFT'\n",
    "    # Sendo S1\n",
    "    data.loc[data['DISPLAY_Type'].isnull() & (data['Name'] == 'Sendo S1'), 'DISPLAY_Type'] = 'TFT'\n",
    "    # Vertu Diamond\n",
    "    data.loc[data['DISPLAY_Type'].isnull() & (data['Name'] == 'Vertu Diamond'), 'DISPLAY_Type'] = 'TFT'\n",
    "    # Vertu Ascent\n",
    "    data.loc[data['DISPLAY_Type'].isnull() & (data['Name'] == 'Vertu Ascent'), 'DISPLAY_Type'] = 'Graphical, TFD'\n",
    "\n",
    "def unifyType(data: pd.DataFrame):\n",
    "    # lowercase\n",
    "    data['DISPLAY_Type'] = data['DISPLAY_Type'].str.lower()\n",
    "\n",
    "    # TFT neu co chua các từ sau: 'tft'\n",
    "    data.loc[data['DISPLAY_Type'].str.contains(\n",
    "        'tft'), 'DISPLAY_Type'] = 'TFT'\n",
    "    \n",
    "    # TFD neu co chua các từ sau: 'tfd'\n",
    "    data.loc[data['DISPLAY_Type'].str.contains(\n",
    "        'tfd'), 'DISPLAY_Type'] = 'TFD'\n",
    "\n",
    "    # IPS neu chua: ips\n",
    "    data.loc[data['DISPLAY_Type'].str.contains(\n",
    "        'ips') == True, 'DISPLAY_Type'] = 'IPS'\n",
    "    \n",
    "    # OLED neu chua: oled\n",
    "    data.loc[data['DISPLAY_Type'].str.contains(\n",
    "        'oled') == True, 'DISPLAY_Type'] = 'OLED'\n",
    "\n",
    "    # CSTN neu chua: cstn\n",
    "    data.loc[data['DISPLAY_Type'].str.contains(\n",
    "        'cstn') == True, 'DISPLAY_Type'] = 'CSTN'\n",
    "    \n",
    "    # FSTN neu chua: fstn\n",
    "    data.loc[data['DISPLAY_Type'].str.contains(\n",
    "        'fstn') == True, 'DISPLAY_Type'] = 'FSTN'\n",
    "\n",
    "    # STN neu chua: stn\n",
    "    data.loc[data['DISPLAY_Type'].str.contains(\n",
    "        'stn') == True, 'DISPLAY_Type'] = 'STN'\n",
    "\n",
    "    # TN neu chua: tn\n",
    "    data.loc[data['DISPLAY_Type'].str.contains(\n",
    "        'tn') == True, 'DISPLAY_Type'] = 'TN'\n",
    "\n",
    "    # PLS neu chua: pls\n",
    "    data.loc[data['DISPLAY_Type'].str.contains(\n",
    "        'pls') == True, 'DISPLAY_Type'] = 'PLS'\n",
    "    \n",
    "    # Alphanumeric neu chua: alphanumeric\n",
    "    data.loc[data['DISPLAY_Type'].str.contains(\n",
    "        'alphanumeric') == True, 'DISPLAY_Type'] = 'Alphanumeric'\n",
    "    \n",
    "    # Monochrome neu chua: monochrome\n",
    "    data.loc[data['DISPLAY_Type'].str.contains(\n",
    "        'monochrome') == True, 'DISPLAY_Type'] = 'Monochrome'\n",
    "\n",
    "    # Grayscale neu chua: grayscale, greyscale\n",
    "    data.loc[data['DISPLAY_Type'].str.contains(\n",
    "        'grayscale|greyscale') == True, 'DISPLAY_Type'] = 'Grayscale'\n",
    "\n",
    "    # Backlit neu chua: backlit\n",
    "    data.loc[data['DISPLAY_Type'].str.contains(\n",
    "        'backlit') == True, 'DISPLAY_Type'] = 'Backlit'\n",
    "    \n",
    "    # S-LCD neu chua: s-lcd, super lcd, super-lcd, superlcd\n",
    "    data.loc[data['DISPLAY_Type'].str.contains(\n",
    "        's-lcd|super lcd|super-lcd|superlcd') == True, 'DISPLAY_Type'] = 'S-LCD'\n",
    "    \n",
    "    # color neu chua: color\n",
    "    data.loc[data['DISPLAY_Type'].str.contains(\n",
    "        'color') == True, 'DISPLAY_Type'] = 'Color'\n",
    "    \n",
    "    # LCD neu chua: lcd, crystal,  mva, pureled\n",
    "    data.loc[data['DISPLAY_Type'].str.contains(\n",
    "        'lcd|crystal|mva|pureled') == True, 'DISPLAY_Type'] = 'LCD'\n",
    "    \n",
    "    # Con lai la 'Unknown'\n",
    "    data['DISPLAY_Type'].replace([i for i in data['DISPLAY_Type'].unique() if i not in ['TFT', 'TFD', 'IPS', 'OLED', 'CSTN', 'FSTN', 'STN', 'TN', 'PLS', 'Alphanumeric', 'Monochrome', 'Grayscale', 'Backlit', 'S-LCD', 'Color', 'LCD']], 'Unknown', inplace=True)\n",
    "        \n",
    "def extract_display_type(data :pd.DataFrame, inplace :bool=False):\n",
    "    if inplace == False:\n",
    "        data = data.copy()\n",
    "    \n",
    "    handleNull_Type(data)\n",
    "    unifyType(data) \n",
    "    return data"
   ]
  },
  {
   "cell_type": "markdown",
   "metadata": {},
   "source": [
    "## Size"
   ]
  },
  {
   "cell_type": "code",
   "execution_count": null,
   "metadata": {},
   "outputs": [],
   "source": [
    "def handleNull_Size(data: pd.DataFrame):\n",
    "    # Nếu trong giá trị ko có 'inch' thì được coi là null\n",
    "    data.replace([i for i in data['DISPLAY_Size'].unique() if 'inch' not in str(i)], np.nan, inplace=True)\n",
    "    \n",
    "    data['DISPLAY_Size'].fillna(data['DISPLAY_Size'].mode()[0], inplace=True)\n",
    "\n",
    "def unifySize(data: pd.DataFrame):\n",
    "    # Tach chuoi tai tu inch va lay phan truoc\n",
    "    data['DISPLAY_Size'] = data['DISPLAY_Size'].str.split(' inch').str[0]\n",
    "\n",
    "    # Chuyen ve dang float cho tung dong\n",
    "    for i in range(len(data['DISPLAY_Size'])):\n",
    "        try:\n",
    "            data.loc[i, 'DISPLAY_Size'] = float(data.loc[i, 'DISPLAY_Size'])\n",
    "        except:\n",
    "            print(i, data.loc[i, 'DISPLAY_Size'])\n",
    "    \n",
    "    # Chuyen ve dang float cho toan bo cot\n",
    "    try:\n",
    "        data['DISPLAY_Size'] = data['DISPLAY_Size'].astype(float)\n",
    "    except:\n",
    "        print('Cannot convert to float')\n",
    "\n",
    "def extract_display_size(data: pd.DataFrame, inplace: bool=False):\n",
    "    if inplace == False:\n",
    "        data = data.copy()\n",
    "    \n",
    "    handleNull_Size(data)\n",
    "    unifySize(data)\n",
    "    return data"
   ]
  },
  {
   "cell_type": "markdown",
   "metadata": {},
   "source": [
    "## Resolution"
   ]
  },
  {
   "cell_type": "code",
   "execution_count": null,
   "metadata": {},
   "outputs": [],
   "source": [
    "def extract_display_resolution(data: pd.DataFrame, inplace: bool=False):\n",
    "    if inplace == False:\n",
    "        data = data.copy()\n",
    "    \n",
    "    # drop DISPLAY_Resolution\n",
    "    data.drop('DISPLAY_Resolution', axis=1, inplace=True)\n",
    "\n",
    "    return data"
   ]
  },
  {
   "cell_type": "markdown",
   "metadata": {},
   "source": [
    "## Protection"
   ]
  },
  {
   "cell_type": "code",
   "execution_count": null,
   "metadata": {},
   "outputs": [],
   "source": [
    "def extract_display_protection(data: pd.DataFrame, inplace: bool=False):\n",
    "    if inplace == False:\n",
    "        data = data.copy()\n",
    "    \n",
    "    # drop DISPLAY_Protection\n",
    "    data.drop('DISPLAY_Protection', axis=1, inplace=True)\n",
    "\n",
    "    return data"
   ]
  },
  {
   "cell_type": "markdown",
   "metadata": {},
   "source": [
    "## Combine"
   ]
  },
  {
   "cell_type": "code",
   "execution_count": null,
   "metadata": {},
   "outputs": [],
   "source": [
    "def extract_display(data: pd.DataFrame, inplace: bool=False):\n",
    "    if inplace == False:\n",
    "        data = data.copy()\n",
    "    \n",
    "    extract_display_type(data, inplace=True)\n",
    "    extract_display_size(data, inplace=True)\n",
    "    extract_display_resolution(data, inplace=True)\n",
    "    extract_display_protection(data, inplace=True)\n",
    "\n",
    "    return data"
   ]
  },
  {
   "cell_type": "markdown",
   "metadata": {},
   "source": [
    "# PLATFORM SECTION"
   ]
  },
  {
   "cell_type": "markdown",
   "metadata": {},
   "source": [
    "## OS"
   ]
  },
  {
   "cell_type": "code",
   "execution_count": null,
   "metadata": {},
   "outputs": [],
   "source": []
  },
  {
   "cell_type": "markdown",
   "metadata": {},
   "source": [
    "## CHIPSET"
   ]
  },
  {
   "cell_type": "code",
   "execution_count": null,
   "metadata": {},
   "outputs": [],
   "source": []
  },
  {
   "cell_type": "markdown",
   "metadata": {},
   "source": [
    "## CPU"
   ]
  },
  {
   "cell_type": "code",
   "execution_count": null,
   "metadata": {},
   "outputs": [],
   "source": []
  },
  {
   "cell_type": "markdown",
   "metadata": {},
   "source": [
    "## GPU"
   ]
  },
  {
   "cell_type": "code",
   "execution_count": null,
   "metadata": {},
   "outputs": [],
   "source": []
  },
  {
   "cell_type": "markdown",
   "metadata": {},
   "source": [
    "## COMBINE"
   ]
  },
  {
   "cell_type": "code",
   "execution_count": null,
   "metadata": {},
   "outputs": [],
   "source": []
  }
 ],
 "metadata": {
  "language_info": {
   "name": "python"
  }
 },
 "nbformat": 4,
 "nbformat_minor": 2
}
