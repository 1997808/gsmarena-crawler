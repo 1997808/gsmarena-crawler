{
 "cells": [
  {
   "cell_type": "code",
   "execution_count": 1,
   "metadata": {},
   "outputs": [],
   "source": [
    "import pandas as pd\n",
    "import os\n",
    "import numpy as np\n",
    "import re\n",
    "pd.set_option('display.max_rows', None)\n",
    "pd.set_option('display.max_columns', None)\n",
    "pd.set_option('display.width', None)\n",
    "pd.set_option('display.max_colwidth', None)"
   ]
  },
  {
   "cell_type": "markdown",
   "metadata": {},
   "source": [
    "# Load data"
   ]
  },
  {
   "cell_type": "code",
   "execution_count": 2,
   "metadata": {},
   "outputs": [
    {
     "data": {
      "text/html": [
       "<div>\n",
       "<style scoped>\n",
       "    .dataframe tbody tr th:only-of-type {\n",
       "        vertical-align: middle;\n",
       "    }\n",
       "\n",
       "    .dataframe tbody tr th {\n",
       "        vertical-align: top;\n",
       "    }\n",
       "\n",
       "    .dataframe thead th {\n",
       "        text-align: right;\n",
       "    }\n",
       "</style>\n",
       "<table border=\"1\" class=\"dataframe\">\n",
       "  <thead>\n",
       "    <tr style=\"text-align: right;\">\n",
       "      <th></th>\n",
       "      <th>Column</th>\n",
       "      <th>NullSum</th>\n",
       "      <th>NullPercent%</th>\n",
       "      <th>UniqueSum</th>\n",
       "      <th>Type</th>\n",
       "      <th>Unique Sample</th>\n",
       "    </tr>\n",
       "  </thead>\n",
       "  <tbody>\n",
       "    <tr>\n",
       "      <th>1</th>\n",
       "      <td>MEMORY_Card_slot</td>\n",
       "      <td>0</td>\n",
       "      <td>0.000000</td>\n",
       "      <td>158</td>\n",
       "      <td>object</td>\n",
       "      <td>microSDXC (dedicated slot), microSDXC (uses shared SIM slot), microSDXC, microSDHC (dedicated slot), microSDHC (uses shared SIM slot)</td>\n",
       "    </tr>\n",
       "    <tr>\n",
       "      <th>2</th>\n",
       "      <td>MEMORY_Internal</td>\n",
       "      <td>1792</td>\n",
       "      <td>14.321106</td>\n",
       "      <td>1136</td>\n",
       "      <td>object</td>\n",
       "      <td>32GB 4GB RAM, 16GB 2GB RAM, 32GB 2GB RAM, 32GB 3GB RAM, 8GB 1GB RAM, 16GB 2GB RAM, 32GB 2GB RAM, 64GB 2GB RAM</td>\n",
       "    </tr>\n",
       "  </tbody>\n",
       "</table>\n",
       "</div>"
      ],
      "text/plain": [
       "             Column  NullSum  NullPercent%  UniqueSum    Type  \\\n",
       "1  MEMORY_Card_slot        0      0.000000        158  object   \n",
       "2   MEMORY_Internal     1792     14.321106       1136  object   \n",
       "\n",
       "                                                                                                                           Unique Sample  \n",
       "1  microSDXC (dedicated slot), microSDXC (uses shared SIM slot), microSDXC, microSDHC (dedicated slot), microSDHC (uses shared SIM slot)  \n",
       "2                          32GB 4GB RAM, 16GB 2GB RAM, 32GB 2GB RAM, 32GB 3GB RAM, 8GB 1GB RAM, 16GB 2GB RAM, 32GB 2GB RAM, 64GB 2GB RAM  "
      ]
     },
     "execution_count": 2,
     "metadata": {},
     "output_type": "execute_result"
    }
   ],
   "source": [
    "data = pd.read_csv(os.path.join('..', 'data', 'Devices_Specs.csv'))\n",
    "\n",
    "def inspect_data(data):\n",
    "    dataCols = data.columns\n",
    "    NullSum = data.isnull().sum()\n",
    "    NullPercent = NullSum/len(data)*100\n",
    "    UniqueSum = data.nunique()\n",
    "    ColType = data.dtypes\n",
    "    # nsamples = 5\n",
    "    # Samples = [', '.join([str(data[col][i]) for i in range(nsamples)]) for col in data.columns]\n",
    "    n_UniqueSample = 5\n",
    "    UniqueSamples = [', '.join([str(data[col].unique()[i]) for i in range(n_UniqueSample if len(\n",
    "        data[col].unique()) > n_UniqueSample else len(data[col].unique()))]) for col in data.columns]\n",
    "\n",
    "    Inspec = pd.DataFrame({'Column': dataCols, 'NullSum': NullSum, 'NullPercent%': NullPercent,\n",
    "                          'UniqueSum': UniqueSum, 'Type': ColType, 'Unique Sample': UniqueSamples})\n",
    "    Inspec.index = [i for i in range(1, len(data.columns)+1)]\n",
    "    return Inspec\n",
    "\n",
    "# Lay cac cot thuoc MEMORY\n",
    "memoryCols = [col for col in data.columns if re.search('MEMORY', col)]\n",
    "\n",
    "# inspect data cac cot thuoc DISPLAY\n",
    "memoryData = data[memoryCols]\n",
    "inspect_data(memoryData)"
   ]
  },
  {
   "cell_type": "markdown",
   "metadata": {},
   "source": [
    "# Card_slot Col"
   ]
  },
  {
   "cell_type": "code",
   "execution_count": null,
   "metadata": {},
   "outputs": [],
   "source": []
  },
  {
   "cell_type": "code",
   "execution_count": null,
   "metadata": {},
   "outputs": [],
   "source": []
  },
  {
   "cell_type": "markdown",
   "metadata": {},
   "source": [
    "# Internal Col"
   ]
  },
  {
   "cell_type": "code",
   "execution_count": null,
   "metadata": {},
   "outputs": [],
   "source": []
  },
  {
   "cell_type": "code",
   "execution_count": null,
   "metadata": {},
   "outputs": [],
   "source": []
  }
 ],
 "metadata": {
  "kernelspec": {
   "display_name": "Python 3",
   "language": "python",
   "name": "python3"
  },
  "language_info": {
   "codemirror_mode": {
    "name": "ipython",
    "version": 3
   },
   "file_extension": ".py",
   "mimetype": "text/x-python",
   "name": "python",
   "nbconvert_exporter": "python",
   "pygments_lexer": "ipython3",
   "version": "3.10.5"
  }
 },
 "nbformat": 4,
 "nbformat_minor": 2
}
