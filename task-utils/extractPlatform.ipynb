{
 "cells": [
  {
   "cell_type": "code",
   "execution_count": 1,
   "metadata": {},
   "outputs": [],
   "source": [
    "import pandas as pd\n",
    "import os\n",
    "import numpy as np\n",
    "import re\n",
    "pd.set_option('display.max_rows', None)\n",
    "pd.set_option('display.max_columns', None)\n",
    "pd.set_option('display.width', None)\n",
    "pd.set_option('display.max_colwidth', None)\n",
    "\n",
    "data = pd.read_csv(os.path.join('..', 'data', 'Devices_Specs.csv'))"
   ]
  },
  {
   "cell_type": "markdown",
   "metadata": {},
   "source": [
    "# Load data"
   ]
  },
  {
   "cell_type": "code",
   "execution_count": 3,
   "metadata": {},
   "outputs": [],
   "source": [
    "data = pd.read_csv(os.path.join('..', 'data', 'Devices_Specs.csv'))"
   ]
  },
  {
   "cell_type": "code",
   "execution_count": 4,
   "metadata": {},
   "outputs": [],
   "source": [
    "def inspect_data(data):\n",
    "    dataCols = data.columns\n",
    "    NullSum = data.isnull().sum()\n",
    "    NullPercent = NullSum/len(data)*100\n",
    "    UniqueSum = data.nunique()\n",
    "    ColType = data.dtypes\n",
    "    # nsamples = 5\n",
    "    # Samples = [', '.join([str(data[col][i]) for i in range(nsamples)]) for col in data.columns]\n",
    "    n_UniqueSample = 5\n",
    "    UniqueSamples = [', '.join([str(data[col].unique()[i]) for i in range(n_UniqueSample if len(\n",
    "        data[col].unique()) > n_UniqueSample else len(data[col].unique()))]) for col in data.columns]\n",
    "\n",
    "    Inspec = pd.DataFrame({'Column': dataCols, 'NullSum': NullSum, 'NullPercent%': NullPercent,\n",
    "                          'UniqueSum': UniqueSum, 'Type': ColType, 'Unique Sample': UniqueSamples})\n",
    "    Inspec.index = [i for i in range(1, len(data.columns)+1)]\n",
    "    return Inspec"
   ]
  },
  {
   "cell_type": "code",
   "execution_count": 5,
   "metadata": {},
   "outputs": [
    {
     "data": {
      "text/html": [
       "<div>\n",
       "<style scoped>\n",
       "    .dataframe tbody tr th:only-of-type {\n",
       "        vertical-align: middle;\n",
       "    }\n",
       "\n",
       "    .dataframe tbody tr th {\n",
       "        vertical-align: top;\n",
       "    }\n",
       "\n",
       "    .dataframe thead th {\n",
       "        text-align: right;\n",
       "    }\n",
       "</style>\n",
       "<table border=\"1\" class=\"dataframe\">\n",
       "  <thead>\n",
       "    <tr style=\"text-align: right;\">\n",
       "      <th></th>\n",
       "      <th>Column</th>\n",
       "      <th>NullSum</th>\n",
       "      <th>NullPercent%</th>\n",
       "      <th>UniqueSum</th>\n",
       "      <th>Type</th>\n",
       "      <th>Unique Sample</th>\n",
       "    </tr>\n",
       "  </thead>\n",
       "  <tbody>\n",
       "    <tr>\n",
       "      <th>1</th>\n",
       "      <td>PLATFORM_OS</td>\n",
       "      <td>3772</td>\n",
       "      <td>30.144650</td>\n",
       "      <td>1629</td>\n",
       "      <td>object</td>\n",
       "      <td>Chrome OS, Android 6.0 (Marshmallow), Android 5.1 (Lollipop), Android 5.0 (Lollipop), Microsoft Windows 10</td>\n",
       "    </tr>\n",
       "    <tr>\n",
       "      <th>2</th>\n",
       "      <td>PLATFORM_Chipset</td>\n",
       "      <td>5192</td>\n",
       "      <td>41.492847</td>\n",
       "      <td>986</td>\n",
       "      <td>object</td>\n",
       "      <td>Rockchip RK3399, Mediatek MT8735, Mediatek MT6753 (28 nm), Mediatek MT6737 (28 nm), Mediatek MT8163A</td>\n",
       "    </tr>\n",
       "    <tr>\n",
       "      <th>3</th>\n",
       "      <td>PLATFORM_CPU</td>\n",
       "      <td>3943</td>\n",
       "      <td>31.511228</td>\n",
       "      <td>881</td>\n",
       "      <td>object</td>\n",
       "      <td>Hexa-core (4x Cortex-A53 &amp; 2x Cortex-A72), Quad-core 1.3 GHz Cortex-A53, Octa-core 1.3 GHz Cortex-A53, Quad-core 1.25 GHz Cortex-A53, Hexa-core (4x1.4 GHz Cortex-A53 &amp; 2x1.8 GHz Cortex-A57)</td>\n",
       "    </tr>\n",
       "    <tr>\n",
       "      <th>4</th>\n",
       "      <td>PLATFORM_GPU</td>\n",
       "      <td>5321</td>\n",
       "      <td>42.523775</td>\n",
       "      <td>325</td>\n",
       "      <td>object</td>\n",
       "      <td>nan, Mali-T720MP2, Mali-T720MP3, Mali-T720 MP2, Mali-T720MP4</td>\n",
       "    </tr>\n",
       "  </tbody>\n",
       "</table>\n",
       "</div>"
      ],
      "text/plain": [
       "             Column  NullSum  NullPercent%  UniqueSum    Type  \\\n",
       "1       PLATFORM_OS     3772     30.144650       1629  object   \n",
       "2  PLATFORM_Chipset     5192     41.492847        986  object   \n",
       "3      PLATFORM_CPU     3943     31.511228        881  object   \n",
       "4      PLATFORM_GPU     5321     42.523775        325  object   \n",
       "\n",
       "                                                                                                                                                                                   Unique Sample  \n",
       "1                                                                                     Chrome OS, Android 6.0 (Marshmallow), Android 5.1 (Lollipop), Android 5.0 (Lollipop), Microsoft Windows 10  \n",
       "2                                                                                           Rockchip RK3399, Mediatek MT8735, Mediatek MT6753 (28 nm), Mediatek MT6737 (28 nm), Mediatek MT8163A  \n",
       "3  Hexa-core (4x Cortex-A53 & 2x Cortex-A72), Quad-core 1.3 GHz Cortex-A53, Octa-core 1.3 GHz Cortex-A53, Quad-core 1.25 GHz Cortex-A53, Hexa-core (4x1.4 GHz Cortex-A53 & 2x1.8 GHz Cortex-A57)  \n",
       "4                                                                                                                                   nan, Mali-T720MP2, Mali-T720MP3, Mali-T720 MP2, Mali-T720MP4  "
      ]
     },
     "execution_count": 5,
     "metadata": {},
     "output_type": "execute_result"
    }
   ],
   "source": [
    "# Lay cac cot thuoc PLATFORM\n",
    "PlatformCols = [col for col in data.columns if re.search('PLATFORM', col)]\n",
    "\n",
    "# inspect data cac cot thuoc PLATFORM\n",
    "PlatformData = data[PlatformCols]\n",
    "inspect_data(PlatformData)"
   ]
  }
 ],
 "metadata": {
  "kernelspec": {
   "display_name": "Python 3",
   "language": "python",
   "name": "python3"
  },
  "language_info": {
   "codemirror_mode": {
    "name": "ipython",
    "version": 3
   },
   "file_extension": ".py",
   "mimetype": "text/x-python",
   "name": "python",
   "nbconvert_exporter": "python",
   "pygments_lexer": "ipython3",
   "version": "3.10.5"
  }
 },
 "nbformat": 4,
 "nbformat_minor": 2
}
