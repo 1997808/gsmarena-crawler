{
 "cells": [
  {
   "cell_type": "code",
   "execution_count": 1,
   "metadata": {},
   "outputs": [],
   "source": [
    "import pandas as pd"
   ]
  },
  {
   "cell_type": "code",
   "execution_count": 23,
   "metadata": {},
   "outputs": [
    {
     "data": {
      "text/html": [
       "<div>\n",
       "<style scoped>\n",
       "    .dataframe tbody tr th:only-of-type {\n",
       "        vertical-align: middle;\n",
       "    }\n",
       "\n",
       "    .dataframe tbody tr th {\n",
       "        vertical-align: top;\n",
       "    }\n",
       "\n",
       "    .dataframe thead th {\n",
       "        text-align: right;\n",
       "    }\n",
       "</style>\n",
       "<table border=\"1\" class=\"dataframe\">\n",
       "  <thead>\n",
       "    <tr style=\"text-align: right;\">\n",
       "      <th></th>\n",
       "      <th>Brand</th>\n",
       "      <th>NETWORK_Technology</th>\n",
       "      <th>NETWORK_2G_bands</th>\n",
       "      <th>NETWORK_3G_bands</th>\n",
       "      <th>NETWORK_4G_bands</th>\n",
       "      <th>NETWORK_5G_bands</th>\n",
       "      <th>NETWORK_GPRS</th>\n",
       "      <th>NETWORK_EDGE</th>\n",
       "      <th>NETWORK_Speed</th>\n",
       "      <th>LAUNCH_Announced</th>\n",
       "      <th>BODY_Weight</th>\n",
       "      <th>BODY_Length</th>\n",
       "      <th>BODY_Width</th>\n",
       "      <th>BODY_Weight.1</th>\n",
       "      <th>BODY_Thickness</th>\n",
       "      <th>FEATURES_Sensors</th>\n",
       "      <th>MISC_Price_Euro</th>\n",
       "    </tr>\n",
       "  </thead>\n",
       "  <tbody>\n",
       "    <tr>\n",
       "      <th>0</th>\n",
       "      <td>Acer</td>\n",
       "      <td>No cellular connectivity</td>\n",
       "      <td>N/A</td>\n",
       "      <td>NaN</td>\n",
       "      <td>NaN</td>\n",
       "      <td>NaN</td>\n",
       "      <td>No</td>\n",
       "      <td>No</td>\n",
       "      <td>NaN</td>\n",
       "      <td>2018.0</td>\n",
       "      <td>544.0</td>\n",
       "      <td>238.3</td>\n",
       "      <td>172.2</td>\n",
       "      <td>544.0</td>\n",
       "      <td>9.9</td>\n",
       "      <td>Accelerometer</td>\n",
       "      <td>335.75</td>\n",
       "    </tr>\n",
       "    <tr>\n",
       "      <th>1</th>\n",
       "      <td>Acer</td>\n",
       "      <td>GSM / HSPA / LTE</td>\n",
       "      <td>GSM 850 / 900 / 1800 / 1900 - SIM 1 &amp; SIM 2</td>\n",
       "      <td>HSDPA 850 / 1900 / 2100</td>\n",
       "      <td>1, 3, 7, 8, 20</td>\n",
       "      <td>NaN</td>\n",
       "      <td>NaN</td>\n",
       "      <td>NaN</td>\n",
       "      <td>HSPA 42.2/11.5 Mbps, LTE Cat4 150/50 Mbps</td>\n",
       "      <td>2016.0</td>\n",
       "      <td>260.0</td>\n",
       "      <td>191.7</td>\n",
       "      <td>101.0</td>\n",
       "      <td>260.0</td>\n",
       "      <td>9.4</td>\n",
       "      <td>Accelerometer, proximity</td>\n",
       "      <td>170.23</td>\n",
       "    </tr>\n",
       "    <tr>\n",
       "      <th>2</th>\n",
       "      <td>Acer</td>\n",
       "      <td>GSM / HSPA / LTE</td>\n",
       "      <td>GSM 850 / 900 / 1800 / 1900 - SIM 1 &amp; SIM 2 (d...</td>\n",
       "      <td>HSDPA</td>\n",
       "      <td>LTE (unspecified)</td>\n",
       "      <td>NaN</td>\n",
       "      <td>Yes</td>\n",
       "      <td>Yes</td>\n",
       "      <td>HSPA 42.2/5.76 Mbps, LTE Cat4 150/50 Mbps</td>\n",
       "      <td>2016.0</td>\n",
       "      <td>169.0</td>\n",
       "      <td>153.8</td>\n",
       "      <td>75.6</td>\n",
       "      <td>169.0</td>\n",
       "      <td>8.5</td>\n",
       "      <td>Fingerprint (front-mounted), accelerometer, pr...</td>\n",
       "      <td>252.48</td>\n",
       "    </tr>\n",
       "    <tr>\n",
       "      <th>3</th>\n",
       "      <td>Acer</td>\n",
       "      <td>GSM / HSPA / LTE</td>\n",
       "      <td>GSM 850 / 900 / 1800 / 1900 - SIM 1 &amp; SIM 2 (d...</td>\n",
       "      <td>HSDPA</td>\n",
       "      <td>LTE (unspecified)</td>\n",
       "      <td>NaN</td>\n",
       "      <td>Yes</td>\n",
       "      <td>Yes</td>\n",
       "      <td>HSPA, LTE</td>\n",
       "      <td>2016.0</td>\n",
       "      <td>126.0</td>\n",
       "      <td>145.5</td>\n",
       "      <td>72.5</td>\n",
       "      <td>126.0</td>\n",
       "      <td>8.5</td>\n",
       "      <td>Accelerometer, proximity</td>\n",
       "      <td>122.01</td>\n",
       "    </tr>\n",
       "    <tr>\n",
       "      <th>4</th>\n",
       "      <td>Acer</td>\n",
       "      <td>No cellular connectivity</td>\n",
       "      <td>N/A</td>\n",
       "      <td>NaN</td>\n",
       "      <td>NaN</td>\n",
       "      <td>NaN</td>\n",
       "      <td>No</td>\n",
       "      <td>No</td>\n",
       "      <td>NaN</td>\n",
       "      <td>2016.0</td>\n",
       "      <td>NaN</td>\n",
       "      <td>259.0</td>\n",
       "      <td>167.0</td>\n",
       "      <td>NaN</td>\n",
       "      <td>8.9</td>\n",
       "      <td>Accelerometer</td>\n",
       "      <td>236.63</td>\n",
       "    </tr>\n",
       "  </tbody>\n",
       "</table>\n",
       "</div>"
      ],
      "text/plain": [
       "  Brand        NETWORK_Technology  \\\n",
       "0  Acer  No cellular connectivity   \n",
       "1  Acer          GSM / HSPA / LTE   \n",
       "2  Acer          GSM / HSPA / LTE   \n",
       "3  Acer          GSM / HSPA / LTE   \n",
       "4  Acer  No cellular connectivity   \n",
       "\n",
       "                                    NETWORK_2G_bands  \\\n",
       "0                                                N/A   \n",
       "1        GSM 850 / 900 / 1800 / 1900 - SIM 1 & SIM 2   \n",
       "2  GSM 850 / 900 / 1800 / 1900 - SIM 1 & SIM 2 (d...   \n",
       "3  GSM 850 / 900 / 1800 / 1900 - SIM 1 & SIM 2 (d...   \n",
       "4                                                N/A   \n",
       "\n",
       "           NETWORK_3G_bands    NETWORK_4G_bands NETWORK_5G_bands NETWORK_GPRS  \\\n",
       "0                       NaN                 NaN              NaN           No   \n",
       "1  HSDPA 850 / 1900 / 2100       1, 3, 7, 8, 20              NaN          NaN   \n",
       "2                     HSDPA   LTE (unspecified)              NaN          Yes   \n",
       "3                     HSDPA   LTE (unspecified)              NaN          Yes   \n",
       "4                       NaN                 NaN              NaN           No   \n",
       "\n",
       "  NETWORK_EDGE                              NETWORK_Speed  LAUNCH_Announced  \\\n",
       "0           No                                        NaN            2018.0   \n",
       "1          NaN  HSPA 42.2/11.5 Mbps, LTE Cat4 150/50 Mbps            2016.0   \n",
       "2          Yes  HSPA 42.2/5.76 Mbps, LTE Cat4 150/50 Mbps            2016.0   \n",
       "3          Yes                                  HSPA, LTE            2016.0   \n",
       "4           No                                        NaN            2016.0   \n",
       "\n",
       "   BODY_Weight  BODY_Length  BODY_Width  BODY_Weight.1  BODY_Thickness  \\\n",
       "0        544.0        238.3       172.2          544.0             9.9   \n",
       "1        260.0        191.7       101.0          260.0             9.4   \n",
       "2        169.0        153.8        75.6          169.0             8.5   \n",
       "3        126.0        145.5        72.5          126.0             8.5   \n",
       "4          NaN        259.0       167.0            NaN             8.9   \n",
       "\n",
       "                                    FEATURES_Sensors  MISC_Price_Euro  \n",
       "0                                      Accelerometer           335.75  \n",
       "1                           Accelerometer, proximity           170.23  \n",
       "2  Fingerprint (front-mounted), accelerometer, pr...           252.48  \n",
       "3                           Accelerometer, proximity           122.01  \n",
       "4                                      Accelerometer           236.63  "
      ]
     },
     "execution_count": 23,
     "metadata": {},
     "output_type": "execute_result"
    }
   ],
   "source": [
    "df_lam = pd.read_csv('Lam/lam_output.csv')\n",
    "df_lam.head()"
   ]
  },
  {
   "cell_type": "code",
   "execution_count": 19,
   "metadata": {},
   "outputs": [
    {
     "data": {
      "text/plain": [
       "(12513, 16)"
      ]
     },
     "execution_count": 19,
     "metadata": {},
     "output_type": "execute_result"
    }
   ],
   "source": [
    "df_lam.shape"
   ]
  },
  {
   "cell_type": "code",
   "execution_count": 24,
   "metadata": {},
   "outputs": [
    {
     "data": {
      "text/plain": [
       "(12513, 10)"
      ]
     },
     "execution_count": 24,
     "metadata": {},
     "output_type": "execute_result"
    }
   ],
   "source": [
    "df_devices_specs = pd.read_csv('Devices_Specs_Extracted_1.csv')\n",
    "df_devices_specs.shape"
   ]
  },
  {
   "cell_type": "code",
   "execution_count": 25,
   "metadata": {},
   "outputs": [
    {
     "data": {
      "text/plain": [
       "(12513, 2)"
      ]
     },
     "execution_count": 25,
     "metadata": {},
     "output_type": "execute_result"
    }
   ],
   "source": [
    "df_tidy_main_cam_1 = pd.read_csv('tidy_main_cam_1.csv')\n",
    "df_tidy_main_cam_1.shape"
   ]
  },
  {
   "cell_type": "code",
   "execution_count": 26,
   "metadata": {},
   "outputs": [
    {
     "data": {
      "text/plain": [
       "(12513, 29)"
      ]
     },
     "execution_count": 26,
     "metadata": {},
     "output_type": "execute_result"
    }
   ],
   "source": [
    "#concatenate the dataframes\n",
    "df = pd.concat([df_lam, df_devices_specs, df_tidy_main_cam_1], axis=1)\n",
    "df.shape"
   ]
  },
  {
   "cell_type": "code",
   "execution_count": 28,
   "metadata": {},
   "outputs": [
    {
     "data": {
      "text/plain": [
       "Index(['Brand', 'NETWORK_Technology', 'NETWORK_2G_bands', 'NETWORK_3G_bands',\n",
       "       'NETWORK_4G_bands', 'NETWORK_5G_bands', 'NETWORK_GPRS', 'NETWORK_EDGE',\n",
       "       'NETWORK_Speed', 'LAUNCH_Announced', 'BODY_Weight', 'BODY_Length',\n",
       "       'BODY_Width', 'BODY_Weight.1', 'BODY_Thickness', 'FEATURES_Sensors',\n",
       "       'MISC_Price_Euro', 'DISPLAY_Type', 'DISPLAY_Size',\n",
       "       'DISPLAY_Resolution_Width', 'DISPLAY_Resolution_Height', 'PLATFORM_OS',\n",
       "       'MEMORY_Card_slot', 'MEMORY_Internal_rom', 'MEMORY_Internal_ram',\n",
       "       'BATTERY_Type', 'BATTERY_Capacity', 'MAIN_CAM_1_Module',\n",
       "       'MAIN_CAM_1_Video'],\n",
       "      dtype='object')"
      ]
     },
     "execution_count": 28,
     "metadata": {},
     "output_type": "execute_result"
    }
   ],
   "source": [
    "df.columns"
   ]
  }
 ],
 "metadata": {
  "kernelspec": {
   "display_name": "base",
   "language": "python",
   "name": "python3"
  },
  "language_info": {
   "codemirror_mode": {
    "name": "ipython",
    "version": 3
   },
   "file_extension": ".py",
   "mimetype": "text/x-python",
   "name": "python",
   "nbconvert_exporter": "python",
   "pygments_lexer": "ipython3",
   "version": "3.10.9"
  }
 },
 "nbformat": 4,
 "nbformat_minor": 2
}
