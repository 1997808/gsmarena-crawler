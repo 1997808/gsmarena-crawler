{
 "cells": [
  {
   "cell_type": "code",
   "execution_count": 1,
   "metadata": {},
   "outputs": [],
   "source": [
    "import pandas as pd\n",
    "import numpy as np"
   ]
  },
  {
   "cell_type": "code",
   "execution_count": null,
   "metadata": {},
   "outputs": [],
   "source": []
  },
  {
   "cell_type": "code",
   "execution_count": 10,
   "metadata": {},
   "outputs": [],
   "source": [
    "data = pd.read_csv('Devices_Specs_tidy_na.csv')\n",
    "data2 = pd.read_csv('Devices_Specs_tidy.csv')"
   ]
  },
  {
   "cell_type": "code",
   "execution_count": 11,
   "metadata": {},
   "outputs": [
    {
     "data": {
      "text/plain": [
       "(4075, 16)"
      ]
     },
     "execution_count": 11,
     "metadata": {},
     "output_type": "execute_result"
    }
   ],
   "source": [
    "data.shape"
   ]
  },
  {
   "cell_type": "code",
   "execution_count": 12,
   "metadata": {},
   "outputs": [
    {
     "data": {
      "text/plain": [
       "(8438, 16)"
      ]
     },
     "execution_count": 12,
     "metadata": {},
     "output_type": "execute_result"
    }
   ],
   "source": [
    "data2.shape"
   ]
  },
  {
   "cell_type": "code",
   "execution_count": null,
   "metadata": {},
   "outputs": [],
   "source": []
  },
  {
   "cell_type": "code",
   "execution_count": 13,
   "metadata": {},
   "outputs": [
    {
     "name": "stdout",
     "output_type": "stream",
     "text": [
      "<class 'pandas.core.frame.DataFrame'>\n",
      "RangeIndex: 8438 entries, 0 to 8437\n",
      "Data columns (total 16 columns):\n",
      " #   Column              Non-Null Count  Dtype  \n",
      "---  ------              --------------  -----  \n",
      " 0   Brand               8438 non-null   object \n",
      " 1   NETWORK_Technology  8438 non-null   object \n",
      " 2   NETWORK_2G_bands    8438 non-null   object \n",
      " 3   NETWORK_3G_bands    6874 non-null   object \n",
      " 4   NETWORK_4G_bands    4609 non-null   object \n",
      " 5   NETWORK_5G_bands    1045 non-null   object \n",
      " 6   NETWORK_GPRS        1837 non-null   object \n",
      " 7   NETWORK_EDGE        1829 non-null   object \n",
      " 8   NETWORK_Speed       6843 non-null   object \n",
      " 9   LAUNCH_Announced    8436 non-null   object \n",
      " 10  BODY_Weight         7894 non-null   float64\n",
      " 11  BODY_Length         8241 non-null   float64\n",
      " 12  BODY_Width          8242 non-null   float64\n",
      " 13  BODY_Thickness      8271 non-null   float64\n",
      " 14  FEATURES_Sensors    6769 non-null   object \n",
      " 15  MISC_Price_Euro     8438 non-null   float64\n",
      "dtypes: float64(5), object(11)\n",
      "memory usage: 1.0+ MB\n"
     ]
    }
   ],
   "source": [
    "data2.info()"
   ]
  },
  {
   "cell_type": "code",
   "execution_count": null,
   "metadata": {},
   "outputs": [],
   "source": []
  }
 ],
 "metadata": {
  "kernelspec": {
   "display_name": "Python 3",
   "language": "python",
   "name": "python3"
  },
  "language_info": {
   "codemirror_mode": {
    "name": "ipython",
    "version": 3
   },
   "file_extension": ".py",
   "mimetype": "text/x-python",
   "name": "python",
   "nbconvert_exporter": "python",
   "pygments_lexer": "ipython3",
   "version": "3.11.7"
  }
 },
 "nbformat": 4,
 "nbformat_minor": 2
}
